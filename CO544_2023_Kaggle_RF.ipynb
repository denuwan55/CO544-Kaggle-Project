{
  "nbformat": 4,
  "nbformat_minor": 0,
  "metadata": {
    "colab": {
      "provenance": []
    },
    "kernelspec": {
      "name": "python3",
      "display_name": "Python 3"
    },
    "language_info": {
      "name": "python"
    }
  },
  "cells": [
    {
      "cell_type": "code",
      "execution_count": null,
      "metadata": {
        "colab": {
          "base_uri": "https://localhost:8080/"
        },
        "id": "fmFvzgq27qzq",
        "outputId": "aa292efa-7240-499a-918f-5ad253a5c30f"
      },
      "outputs": [
        {
          "output_type": "stream",
          "name": "stderr",
          "text": [
            "<ipython-input-3-c7f7ce1532a6>:40: FutureWarning: The default value of numeric_only in DataFrame.median is deprecated. In a future version, it will default to False. In addition, specifying 'numeric_only=None' is deprecated. Select only valid columns or specify the value of numeric_only to silence this warning.\n",
            "  df.fillna(df.median(), inplace=True)  # Replace NaN with the median of each column\n",
            "/usr/local/lib/python3.10/dist-packages/sklearn/preprocessing/_encoders.py:868: FutureWarning: `sparse` was renamed to `sparse_output` in version 1.2 and will be removed in 1.4. `sparse_output` is ignored unless you leave `sparse` to its default value.\n",
            "  warnings.warn(\n"
          ]
        },
        {
          "output_type": "stream",
          "name": "stdout",
          "text": [
            "Accuracy: 0.8108108108108109\n"
          ]
        }
      ],
      "source": [
        "import pandas as pd\n",
        "from sklearn.model_selection import train_test_split\n",
        "from sklearn.ensemble import RandomForestClassifier\n",
        "from sklearn.preprocessing import LabelEncoder, OneHotEncoder\n",
        "from sklearn.metrics import accuracy_score\n",
        "\n",
        "# Define the attribute details\n",
        "attribute_details = {\n",
        "    'A1': ['b', 'a'],\n",
        "    'A2': 'continuous',\n",
        "    'A3': ['u', 'y', 'l'],\n",
        "    'A4': ['g', 'p', 'gg'],\n",
        "    'A5': 'continuous',\n",
        "    'A6': ['c', 'd', 'cc', 'i', 'j', 'k', 'm', 'r', 'q', 'w', 'x', 'e', 'aa', 'ff'],\n",
        "    'A7': 'continuous',\n",
        "    'A8': ['TRUE', 'FALSE'],\n",
        "    'A9': ['v', 'h', 'bb', 'j', 'n', 'z', 'dd', 'ff', 'o'],\n",
        "    'A10': 'continuous',\n",
        "    'A11': ['TRUE', 'FALSE'],\n",
        "    'A12': 'continuous',\n",
        "    'A13': ['TRUE', 'FALSE'],\n",
        "    'A14': 'continuous',\n",
        "    'A15': ['g', 'p', 's'],\n",
        "    'A16': ['Success', 'Failure']\n",
        "}\n",
        "\n",
        "# Load the dataset\n",
        "df = pd.read_csv(\"trainData.csv\", sep=\",\", header=0)\n",
        "\n",
        "# Preprocessing\n",
        "# Convert categorical variables to numerical using label encoding\n",
        "categorical_features = ['A1', 'A3', 'A4', 'A6', 'A8', 'A9', 'A11', 'A13', 'A15']\n",
        "label_encoder = LabelEncoder()\n",
        "\n",
        "for feature in categorical_features:\n",
        "    df[feature] = label_encoder.fit_transform(df[feature])\n",
        "\n",
        "# Handle missing values\n",
        "df.replace('?', pd.NA, inplace=True)  # Replace '?' with NaN\n",
        "df.fillna(df.median(), inplace=True)  # Replace NaN with the median of each column\n",
        "\n",
        "# Split the dataset into features (X) and target (y)\n",
        "X = df.drop('A16', axis=1)\n",
        "y = df['A16']\n",
        "\n",
        "# Perform one-hot encoding for categorical features\n",
        "one_hot_encoder = OneHotEncoder(sparse=False)\n",
        "X_encoded = pd.DataFrame(one_hot_encoder.fit_transform(X[categorical_features]))\n",
        "X_encoded.columns = one_hot_encoder.get_feature_names_out(categorical_features)\n",
        "X = pd.concat([X.drop(categorical_features, axis=1), X_encoded], axis=1)\n",
        "\n",
        "# Split the data into training and testing sets\n",
        "X_train, X_test, y_train, y_test = train_test_split(X, y, test_size=0.2, random_state=42)\n",
        "\n",
        "# Train the random forest model\n",
        "random_forest = RandomForestClassifier()\n",
        "random_forest.fit(X_train, y_train)\n",
        "\n",
        "# Make predictions on the testing set\n",
        "y_pred = random_forest.predict(X_test)\n",
        "\n",
        "# Evaluate the model\n",
        "accuracy = accuracy_score(y_test, y_pred)\n",
        "print(f\"Accuracy: {accuracy}\")\n"
      ]
    },
    {
      "cell_type": "code",
      "source": [
        "new_df = pd.read_csv(\"testdata.csv\", sep=\",\", header=0)"
      ],
      "metadata": {
        "id": "fBDQKHWh9bZT"
      },
      "execution_count": null,
      "outputs": []
    },
    {
      "cell_type": "code",
      "source": [
        "# Label encoding\n",
        "for feature in categorical_features:\n",
        "    new_df[feature] = label_encoder.fit_transform(new_df[feature])\n",
        "\n",
        "# Handling missing values\n",
        "new_df.replace('?', pd.NA, inplace=True)\n",
        "new_df.fillna(df.median(), inplace=True)\n",
        "\n",
        "# One-hot encoding for categorical features\n",
        "new_encoded = pd.DataFrame(one_hot_encoder.transform(new_df[categorical_features]))\n",
        "new_encoded.columns = one_hot_encoder.get_feature_names_out(categorical_features)\n",
        "new_df_encoded = pd.concat([new_df.drop(categorical_features, axis=1), new_encoded], axis=1)\n"
      ],
      "metadata": {
        "colab": {
          "base_uri": "https://localhost:8080/"
        },
        "id": "dyvOBrel95j7",
        "outputId": "2b615e71-cf4c-486d-8727-a473db9ddb89"
      },
      "execution_count": null,
      "outputs": [
        {
          "output_type": "stream",
          "name": "stderr",
          "text": [
            "<ipython-input-5-4d6b08e55943>:7: FutureWarning: The default value of numeric_only in DataFrame.median is deprecated. In a future version, it will default to False. In addition, specifying 'numeric_only=None' is deprecated. Select only valid columns or specify the value of numeric_only to silence this warning.\n",
            "  new_df.fillna(df.median(), inplace=True)\n"
          ]
        }
      ]
    },
    {
      "cell_type": "code",
      "source": [
        "new_predictions = random_forest.predict(new_df_encoded)"
      ],
      "metadata": {
        "id": "S14IRCpM97vP"
      },
      "execution_count": null,
      "outputs": []
    },
    {
      "cell_type": "code",
      "source": [
        "predictions_df = pd.DataFrame({'Id': range(1, len(new_predictions) + 1),\n",
        "                               'Category': new_predictions})"
      ],
      "metadata": {
        "id": "ma2bm5It9_5l"
      },
      "execution_count": null,
      "outputs": []
    },
    {
      "cell_type": "code",
      "source": [
        "predictions_df.to_csv(\"predictions.csv\", index=False)"
      ],
      "metadata": {
        "id": "44VWsmEl-CdQ"
      },
      "execution_count": null,
      "outputs": []
    }
  ]
}