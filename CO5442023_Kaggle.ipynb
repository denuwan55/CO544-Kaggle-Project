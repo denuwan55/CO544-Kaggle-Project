{
  "nbformat": 4,
  "nbformat_minor": 0,
  "metadata": {
    "colab": {
      "provenance": []
    },
    "kernelspec": {
      "name": "python3",
      "display_name": "Python 3"
    },
    "language_info": {
      "name": "python"
    }
  },
  "cells": [
    {
      "cell_type": "code",
      "execution_count": 1,
      "metadata": {
        "id": "41OyDQo0NQHK"
      },
      "outputs": [],
      "source": [
        "import pandas as pd\n",
        "import numpy as np\n",
        "from sklearn.model_selection import train_test_split, cross_val_score, cross_val_predict\n",
        "from sklearn.linear_model import LogisticRegression\n",
        "from sklearn.preprocessing import LabelEncoder, OneHotEncoder\n",
        "from sklearn.metrics import accuracy_score\n",
        "from scipy.stats import mstats\n",
        "from sklearn.preprocessing import StandardScaler\n",
        "from sklearn.model_selection import GridSearchCV"
      ]
    },
    {
      "cell_type": "code",
      "source": [
        "# Define the attribute details\n",
        "attribute_details = {\n",
        "    'A1': ['b', 'a'],\n",
        "    'A2': 'continuous',\n",
        "    'A3': ['u', 'y', 'l'],\n",
        "    'A4': ['g', 'p', 'gg'],\n",
        "    'A5': 'continuous',\n",
        "    'A6': ['c', 'd', 'cc', 'i', 'j', 'k', 'm', 'r', 'q', 'w', 'x', 'e', 'aa', 'ff'],\n",
        "    'A7': 'continuous',\n",
        "    'A8': ['TRUE', 'FALSE'],\n",
        "    'A9': ['v', 'h', 'bb', 'j', 'n', 'z', 'dd', 'ff', 'o'],\n",
        "    'A10': 'continuous',\n",
        "    'A11': ['TRUE', 'FALSE'],\n",
        "    'A12': 'continuous',\n",
        "    'A13': ['TRUE', 'FALSE'],\n",
        "    'A14': 'continuous',\n",
        "    'A15': ['g', 'p', 's'],\n",
        "    'A16': ['Success', 'Failure']\n",
        "}\n",
        "\n",
        "# Load the dataset\n",
        "df = pd.read_csv(\"trainData.csv\", sep=\",\", header=0)"
      ],
      "metadata": {
        "id": "4rVzwBQ3EfLS"
      },
      "execution_count": 3,
      "outputs": []
    },
    {
      "cell_type": "code",
      "source": [
        "# Preprocessing\n",
        "# Convert categorical variables to numerical using label encoding\n",
        "categorical_features = ['A1', 'A3', 'A4', 'A6', 'A8', 'A9', 'A11', 'A13', 'A15']\n",
        "label_encoder = LabelEncoder()\n",
        "\n",
        "for feature in categorical_features:\n",
        "    df[feature] = label_encoder.fit_transform(df[feature])\n",
        "\n",
        "# Handle missing values\n",
        "df.replace('?', pd.NA, inplace=True)  # Replace '?' with NaN\n",
        "df.fillna(df.median(), inplace=True)  # Replace NaN with the median of each column\n",
        "\n",
        "# Split the dataset into features (X) and target (y)\n",
        "X = df.drop('A16', axis=1)\n",
        "y = df['A16']\n",
        "\n",
        "# Perform one-hot encoding for categorical features\n",
        "one_hot_encoder = OneHotEncoder(sparse=False)\n",
        "X_encoded = pd.DataFrame(one_hot_encoder.fit_transform(X[categorical_features]))\n",
        "X_encoded.columns = one_hot_encoder.get_feature_names_out(categorical_features)\n",
        "X = pd.concat([X.drop(categorical_features, axis=1), X_encoded], axis=1)"
      ],
      "metadata": {
        "colab": {
          "base_uri": "https://localhost:8080/"
        },
        "id": "5jj5I1f6EkeE",
        "outputId": "0ffba491-6812-4568-9234-253a30b1b082"
      },
      "execution_count": 5,
      "outputs": [
        {
          "output_type": "stream",
          "name": "stderr",
          "text": [
            "<ipython-input-5-11b7ee5212bb>:11: FutureWarning: The default value of numeric_only in DataFrame.median is deprecated. In a future version, it will default to False. In addition, specifying 'numeric_only=None' is deprecated. Select only valid columns or specify the value of numeric_only to silence this warning.\n",
            "  df.fillna(df.median(), inplace=True)  # Replace NaN with the median of each column\n",
            "/usr/local/lib/python3.10/dist-packages/sklearn/preprocessing/_encoders.py:868: FutureWarning: `sparse` was renamed to `sparse_output` in version 1.2 and will be removed in 1.4. `sparse_output` is ignored unless you leave `sparse` to its default value.\n",
            "  warnings.warn(\n"
          ]
        }
      ]
    },
    {
      "cell_type": "code",
      "source": [
        "# Split the data into training and testing sets\n",
        "X_train, X_test, y_train, y_test = train_test_split(X, y, test_size=0.2, random_state=42)\n",
        "\n",
        "# Train the logistic regression model\n",
        "logreg = LogisticRegression()\n",
        "\n",
        "\n",
        "logreg.fit(X_train, y_train)\n",
        "\n",
        "# Make predictions on the testing set\n",
        "y_pred = logreg.predict(X_test)\n",
        "\n",
        "# # Evaluate the model\n",
        "accuracy = accuracy_score(y_test, y_pred)\n",
        "print(f\"Accuracy: {accuracy}\")"
      ],
      "metadata": {
        "colab": {
          "base_uri": "https://localhost:8080/"
        },
        "id": "4Grdj5GZErCq",
        "outputId": "096d39bc-42ad-440c-c0ea-425766da88d3"
      },
      "execution_count": 7,
      "outputs": [
        {
          "output_type": "stream",
          "name": "stdout",
          "text": [
            "Accuracy: 0.7927927927927928\n"
          ]
        },
        {
          "output_type": "stream",
          "name": "stderr",
          "text": [
            "/usr/local/lib/python3.10/dist-packages/sklearn/linear_model/_logistic.py:458: ConvergenceWarning: lbfgs failed to converge (status=1):\n",
            "STOP: TOTAL NO. of ITERATIONS REACHED LIMIT.\n",
            "\n",
            "Increase the number of iterations (max_iter) or scale the data as shown in:\n",
            "    https://scikit-learn.org/stable/modules/preprocessing.html\n",
            "Please also refer to the documentation for alternative solver options:\n",
            "    https://scikit-learn.org/stable/modules/linear_model.html#logistic-regression\n",
            "  n_iter_i = _check_optimize_result(\n"
          ]
        }
      ]
    },
    {
      "cell_type": "code",
      "source": [
        "new_df = pd.read_csv(\"testdata.csv\", sep=\",\", header=0)"
      ],
      "metadata": {
        "id": "j-c5xrboPSG_"
      },
      "execution_count": 8,
      "outputs": []
    },
    {
      "cell_type": "code",
      "source": [
        "# Label encoding\n",
        "for feature in categorical_features:\n",
        "    new_df[feature] = label_encoder.fit_transform(new_df[feature])\n",
        "\n",
        "# Handling missing values\n",
        "new_df.replace('?', pd.NA, inplace=True)\n",
        "new_df.fillna(df.median(), inplace=True)\n",
        "\n",
        "# One-hot encoding for categorical features\n",
        "new_encoded = pd.DataFrame(one_hot_encoder.transform(new_df[categorical_features]))\n",
        "new_encoded.columns = one_hot_encoder.get_feature_names_out(categorical_features)\n",
        "new_df_encoded = pd.concat([new_df.drop(categorical_features, axis=1), new_encoded], axis=1)\n"
      ],
      "metadata": {
        "colab": {
          "base_uri": "https://localhost:8080/"
        },
        "id": "rPjHuX3qTiaf",
        "outputId": "28671586-fcd2-400b-e999-daa95078add3"
      },
      "execution_count": 9,
      "outputs": [
        {
          "output_type": "stream",
          "name": "stderr",
          "text": [
            "<ipython-input-9-4d6b08e55943>:7: FutureWarning: The default value of numeric_only in DataFrame.median is deprecated. In a future version, it will default to False. In addition, specifying 'numeric_only=None' is deprecated. Select only valid columns or specify the value of numeric_only to silence this warning.\n",
            "  new_df.fillna(df.median(), inplace=True)\n"
          ]
        }
      ]
    },
    {
      "cell_type": "code",
      "source": [
        "new_predictions = logreg.predict(new_df_encoded)"
      ],
      "metadata": {
        "id": "Ig75txXGUQKd"
      },
      "execution_count": 10,
      "outputs": []
    },
    {
      "cell_type": "code",
      "source": [
        "print(new_predictions)"
      ],
      "metadata": {
        "colab": {
          "base_uri": "https://localhost:8080/"
        },
        "id": "Qlza9P2XUvkB",
        "outputId": "d5ea4195-99fc-46e3-d6ca-b12ceb7fb7da"
      },
      "execution_count": 11,
      "outputs": [
        {
          "output_type": "stream",
          "name": "stdout",
          "text": [
            "['Success' 'Success' 'Success' 'Success' 'Success' 'Success' 'Success'\n",
            " 'Success' 'Success' 'Failure' 'Failure' 'Success' 'Failure' 'Success'\n",
            " 'Success' 'Failure' 'Success' 'Success' 'Failure' 'Failure' 'Failure'\n",
            " 'Failure' 'Failure' 'Failure' 'Failure' 'Failure' 'Failure' 'Failure'\n",
            " 'Failure' 'Failure' 'Failure' 'Failure' 'Failure' 'Failure' 'Failure'\n",
            " 'Failure' 'Success' 'Failure' 'Failure' 'Failure' 'Failure' 'Failure'\n",
            " 'Failure' 'Failure' 'Failure' 'Failure' 'Failure' 'Failure' 'Failure'\n",
            " 'Failure' 'Failure' 'Failure' 'Failure' 'Failure' 'Failure' 'Failure'\n",
            " 'Failure' 'Failure' 'Failure' 'Failure' 'Failure' 'Failure' 'Failure'\n",
            " 'Failure' 'Failure' 'Failure' 'Failure' 'Failure' 'Failure' 'Failure'\n",
            " 'Success' 'Failure' 'Failure' 'Failure' 'Failure' 'Failure' 'Failure'\n",
            " 'Failure' 'Failure' 'Failure' 'Failure' 'Failure' 'Failure' 'Failure'\n",
            " 'Failure' 'Failure' 'Failure' 'Failure' 'Failure' 'Failure' 'Failure'\n",
            " 'Failure' 'Failure' 'Failure' 'Failure' 'Failure' 'Failure' 'Failure'\n",
            " 'Failure' 'Failure' 'Failure' 'Failure' 'Failure' 'Failure' 'Failure'\n",
            " 'Failure' 'Failure' 'Success' 'Success' 'Success' 'Success' 'Success'\n",
            " 'Success' 'Failure' 'Failure' 'Success' 'Failure' 'Success' 'Success'\n",
            " 'Success' 'Success' 'Success' 'Success' 'Success' 'Success' 'Success'\n",
            " 'Success' 'Success' 'Success' 'Success' 'Success' 'Success' 'Success'\n",
            " 'Success' 'Success' 'Success' 'Success' 'Success']\n"
          ]
        }
      ]
    },
    {
      "cell_type": "code",
      "source": [
        "predictions_df = pd.DataFrame({'Id': range(1, len(new_predictions) + 1),\n",
        "                               'Category': new_predictions})"
      ],
      "metadata": {
        "id": "u-doW0yjVbrQ"
      },
      "execution_count": 12,
      "outputs": []
    },
    {
      "cell_type": "code",
      "source": [
        "predictions_df.to_csv(\"predictions.csv\", index=False)"
      ],
      "metadata": {
        "id": "1TDX7LYYyZEp"
      },
      "execution_count": 13,
      "outputs": []
    },
    {
      "cell_type": "code",
      "source": [],
      "metadata": {
        "id": "5BY3OXL1yj70"
      },
      "execution_count": null,
      "outputs": []
    },
    {
      "cell_type": "code",
      "source": [],
      "metadata": {
        "id": "V8YJPnhbQzNr"
      },
      "execution_count": null,
      "outputs": []
    },
    {
      "cell_type": "code",
      "source": [],
      "metadata": {
        "id": "QhvO8F2XQzK3"
      },
      "execution_count": null,
      "outputs": []
    },
    {
      "cell_type": "code",
      "source": [],
      "metadata": {
        "id": "nD6xYk6MQzFm"
      },
      "execution_count": null,
      "outputs": []
    }
  ]
}